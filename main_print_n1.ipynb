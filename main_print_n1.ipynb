{
 "cells": [
  {
   "cell_type": "code",
   "execution_count": 1,
   "id": "6f96e1a1",
   "metadata": {},
   "outputs": [],
   "source": [
    "#변수 선언\n",
    "name = \"Alice\"\n",
    "age = 25\n",
    "score = 95.5"
   ]
  },
  {
   "cell_type": "code",
   "execution_count": 2,
   "id": "33541c22",
   "metadata": {},
   "outputs": [
    {
     "name": "stdout",
     "output_type": "stream",
     "text": [
      "Hello, Python!\n"
     ]
    }
   ],
   "source": [
    "name = \"Alice\"\n",
    "age = 25\n",
    "score = 95.5\n",
    "\n",
    "# 1. 기본 출력\n",
    "print(\"Hello, Python!\")"
   ]
  },
  {
   "cell_type": "code",
   "execution_count": 4,
   "id": "4f3e2cff",
   "metadata": {},
   "outputs": [
    {
     "name": "stdout",
     "output_type": "stream",
     "text": [
      "Hello, Python!\n",
      "Name: Alice Age: 25 Score: 95.5\n"
     ]
    }
   ],
   "source": [
    "name = \"Alice\"\n",
    "age = 25\n",
    "score = 95.5\n",
    "\n",
    "# 1. 기본 출력\n",
    "print(\"Hello, Python!\")\n",
    "\n",
    "# 2. 여러 값 출력 (콤마로 수분 -> 자동 띄어쓰기)\n",
    "print(\"Name:\", name, \"Age:\", age, \"Score:\", score)"
   ]
  },
  {
   "cell_type": "markdown",
   "id": "efc2f210",
   "metadata": {},
   "source": [
    "hello"
   ]
  }
 ],
 "metadata": {
  "kernelspec": {
   "display_name": ".venv",
   "language": "python",
   "name": "python3"
  },
  "language_info": {
   "codemirror_mode": {
    "name": "ipython",
    "version": 3
   },
   "file_extension": ".py",
   "mimetype": "text/x-python",
   "name": "python",
   "nbconvert_exporter": "python",
   "pygments_lexer": "ipython3",
   "version": "3.9.13"
  }
 },
 "nbformat": 4,
 "nbformat_minor": 5
}
